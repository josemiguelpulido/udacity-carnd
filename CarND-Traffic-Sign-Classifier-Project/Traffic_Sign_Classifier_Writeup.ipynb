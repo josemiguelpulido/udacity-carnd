{
 "cells": [
  {
   "cell_type": "markdown",
   "metadata": {},
   "source": [
    "## Traffic Sign Recognition Writeup"
   ]
  },
  {
   "cell_type": "markdown",
   "metadata": {},
   "source": [
    "### Index\n",
    "The goals / steps of this project are the following:\n",
    "\n",
    "0. Load the data set (see below for links to the project data set)\n",
    "1. Explore, summarize and visualize the data set\n",
    "2. Design, train and test a model architecture\n",
    "3. Use the model to make predictions on new images\n",
    "4. Analyze the softmax probabilities of the new images\n"
   ]
  },
  {
   "cell_type": "markdown",
   "metadata": {},
   "source": [
    "#### 0. Load the data set\n",
    "\n",
    "Code to perform this step implemented in cell 34 in Jupyter Notebook, in Step 0 section"
   ]
  },
  {
   "cell_type": "markdown",
   "metadata": {},
   "source": [
    "#### 1. Explore, summarize and visualize the data set\n",
    "\n",
    "Code to perform this step implemented in cell 97 in Jupyter Notebook, in Step 1 section.\n",
    "\n",
    "I have used numpy\n",
    "to discover various stats about the data. Among them:\n",
    "- The number of classes is 43\n",
    "- I was expecting 32x32 to be the shape of the images, but I was not able to display that value\n",
    "\n",
    "In addition, in cell 36, I have also created code to display the images along with the name of the sign,\n",
    "to visually confirm that the labels associated to the images were correct, using just a few random cases\n",
    "\n",
    "I have also included a histogram in cell 9 to show the distribution of traffic signs in the dataset\n",
    "\n",
    "Furthermore, my mentor suggested to use \n",
    "[Stanford cs231 data preprocessing tips](http://cs231n.github.io/neural-networks-2/), so I used mean substraction.\n",
    "I also tried to apply normalization, by dividing by the standard deviation, but I was not able to make it work.\n",
    "\n",
    "However, when training the network with mean-substracted data, I was not able to get accuracy beyond 0.5, so I resorted to \n",
    "train with unnormalized data. Most probably I am using mean substration wrong.\n",
    "\n",
    "I also decided not to transform the image into greyscale, because I thought there is value in the color information\n",
    "avaiable (red vs. blue signals, etc)"
   ]
  },
  {
   "cell_type": "markdown",
   "metadata": {},
   "source": [
    "#### 2. Design, train and test a model architecture\n",
    "\n",
    "Code to perform this step implemented in cells 37-42 in Jupyter Notebook, in Step 2 section.\n",
    "\n",
    "I have used the LetNet network developed during the class as the base ConvNet architecture to classify\n",
    "the traffic sign images, along with the code the train, validate and test the model:\n",
    "\n",
    "Input: 32x32x3\n",
    "Conv: (5x5x3) filter with stride 1 to 28x28x6 output\n",
    "Relu\n",
    "Maxpool: (2x2) kernel, (2x2) stride to 14x14x6 output\n",
    "Conv: (5x5x6) filter with stride 1 to 10x10x16 output\n",
    "Relu\n",
    "Maxpool: (2x2) kernel, (2x2) stride to 5x5x16 output\n",
    "Fully Connected. Input = 400. Output = 120\n",
    "Relu\n",
    "Fully Connected. Input = 120. Output = 84\n",
    "Relu\n",
    "Fully Connected. Input = 84. Output = 10\n",
    "\n",
    "I have used a batch size of 128 to implement stochastic gradienrt descent, and 10 epochs.\n",
    "\n",
    "I have gotten a train/evaluation accuracy of 0.87 and a test accuracy of 0.85. This is with unnormalized data.\n",
    "I thought that with some preprocessing (e.g., mean substraction) the accuracy would improve, but it did not happen\n",
    "in my case, probably due to not doing preprocessing correctly. It would be great to get some feedback on this during\n",
    "the evalution.\n",
    "\n",
    "I also did not play with modifications to the architecture.\n",
    "\n"
   ]
  },
  {
   "cell_type": "markdown",
   "metadata": {},
   "source": [
    "#### 3. Use the model to make predictions on new images\n",
    "\n",
    "Code to perform this step implemented in cells 37-42 in Jupyter Notebook, in Step 2 section.\n",
    "\n",
    "Following my mentor suggestion, I have resized images downloaded from the web using cv2. This is implemented in cell 88.\n",
    "I am not happy with the result of the resize, given that resulting images are distorted. The distorsion happens even\n",
    "when the original images are square, too. I have spent a significant time on this low level task during the project.\n",
    "In addition, not getting correct images has not really allowed\n",
    "\n",
    "For some reason I am not able to iterate across all images. The error I get is displayed in the notebook. It would\n",
    "be great to get some code examples in Tensorflow on how to compute predictions, as I have not been able to find it\n",
    "in the class notes.\n"
   ]
  },
  {
   "cell_type": "markdown",
   "metadata": {},
   "source": [
    "#### 4. Analyze the softmax probabilities of the new images\n",
    "\n",
    "Code to perform this step implemented in cell 104 in Jupyter Notebook\n",
    "\n",
    "In all 5 cases, the top probability is much larger than the rest, indicating a clear candidate. However, the candidate\n",
    "does not correspond to the actual image\n",
    "\n",
    "Note that in this case I have been able to iterate across all images w/o problem. I have displayed both the top3 \n",
    "softmax probabilities for each of the images, along with the name of the sign associated to the top probability in\n",
    "each case. None of them is correct.\n"
   ]
  }
 ],
 "metadata": {
  "kernelspec": {
   "display_name": "Python 3",
   "language": "python",
   "name": "python3"
  },
  "language_info": {
   "codemirror_mode": {
    "name": "ipython",
    "version": 3
   },
   "file_extension": ".py",
   "mimetype": "text/x-python",
   "name": "python",
   "nbconvert_exporter": "python",
   "pygments_lexer": "ipython3",
   "version": "3.5.2"
  },
  "widgets": {
   "state": {},
   "version": "1.1.2"
  }
 },
 "nbformat": 4,
 "nbformat_minor": 2
}
